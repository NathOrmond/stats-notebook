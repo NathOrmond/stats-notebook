{
 "cells": [
  {
   "cell_type": "markdown",
   "metadata": {},
   "source": [
    "# The Uniform Distribution\n",
    "\n",
    "The uniform distribution is the simplest continuous probability distribution, characterized by constant probability density \n",
    "over a defined interval [a,b].\n",
    "\n",
    "## Key Properties\n",
    "\n",
    "1. **Definition**: A continuous random variable X has a uniform distribution over [a,b] if its probability density function is:\n",
    "   * f(x) = 1/(b-a) for a ≤ x ≤ b\n",
    "   * f(x) = 0 otherwise\n",
    "\n",
    "2. **Parameters**:\n",
    "   * a: minimum value (lower bound)\n",
    "   * b: maximum value (upper bound)\n",
    "\n",
    "3. **Key Statistics**:\n",
    "   * E(X) = (a + b)/2\n",
    "   * Var(X) = (b - a)²/12\n",
    "   * Median = (a + b)/2\n",
    "   * Mode: Any value in [a,b]\n",
    "\n",
    "4. **Properties**:\n",
    "   * Constant probability density within range\n",
    "   * Zero probability density outside range\n",
    "   * Total area under PDF = 1\n",
    "   * Symmetric around mean\n",
    "\n",
    "## Cumulative Distribution Function (CDF)\n",
    "F(x) = \n",
    "* 0 for x < a\n",
    "* (x-a)/(b-a) for a ≤ x ≤ b\n",
    "* 1 for x > b"
   ]
  },
  {
   "cell_type": "code",
   "execution_count": 3,
   "metadata": {},
   "outputs": [
    {
     "name": "stdout",
     "output_type": "stream",
     "text": [
      "COMPLETE\n"
     ]
    }
   ],
   "source": [
    "import numpy as np\n",
    "import matplotlib.pyplot as plt\n",
    "from ipywidgets import interactive, FloatSlider\n",
    "import ipywidgets as widgets\n",
    "import scipy.stats as stats\n",
    "print(\"COMPLETE\")"
   ]
  },
  {
   "cell_type": "code",
   "execution_count": 4,
   "metadata": {},
   "outputs": [],
   "source": [
    "def plot_uniform(a, b):\n",
    "    \"\"\"\n",
    "    Create visualization of uniform distribution with given parameters\n",
    "    \"\"\"\n",
    "    # Create points for plotting\n",
    "    x = np.linspace(a-1, b+1, 1000)\n",
    "    \n",
    "    # Create uniform distribution\n",
    "    uniform = stats.uniform(loc=a, scale=b-a)\n",
    "    \n",
    "    # Create subplots\n",
    "    fig, (ax1, ax2) = plt.subplots(2, 1, figsize=(10, 10))\n",
    "    \n",
    "    # Plot PDF\n",
    "    ax1.plot(x, uniform.pdf(x))\n",
    "    ax1.fill_between(x, uniform.pdf(x), alpha=0.3)\n",
    "    ax1.set_title(f'Probability Density Function (PDF)\\nUniform({a}, {b})')\n",
    "    ax1.grid(True)\n",
    "    ax1.axhline(y=0, color='k', linestyle='-', alpha=0.3)\n",
    "    ax1.set_ylabel('Probability Density')\n",
    "    \n",
    "    # Plot CDF\n",
    "    ax2.plot(x, uniform.cdf(x))\n",
    "    ax2.set_title('Cumulative Distribution Function (CDF)')\n",
    "    ax2.grid(True)\n",
    "    ax2.set_ylabel('Cumulative Probability')\n",
    "    ax2.set_xlabel('x')\n",
    "    \n",
    "    # Add statistics\n",
    "    stats_text = f'Mean: {uniform.mean():.2f}\\n'\n",
    "    stats_text += f'Variance: {uniform.var():.2f}\\n'\n",
    "    stats_text += f'Std Dev: {uniform.std():.2f}'\n",
    "    plt.figtext(0.95, 0.95, stats_text, fontsize=10, ha='right', va='top')\n",
    "    \n",
    "    plt.tight_layout()\n",
    "    plt.show()\n",
    "\n",
    "# Create interactive widget\n",
    "interactive_plot = interactive(\n",
    "    plot_uniform,\n",
    "    a=FloatSlider(min=-5, max=5, step=0.1, value=0, description='a:'),\n",
    "    b=FloatSlider(min=-5, max=5, step=0.1, value=1, description='b:')\n",
    ")"
   ]
  },
  {
   "cell_type": "markdown",
   "metadata": {},
   "source": [
    "## Example: Disease Prevalence\n",
    "\n",
    "Consider a scenario where we're modeling disease prevalence in a population:\n",
    "* Minimum prevalence (a) = 1%\n",
    "* Maximum prevalence (b) = 10%\n",
    "\n",
    "Key calculations:\n",
    "1. Expected prevalence = (1 + 10)/2 = 5.5%\n",
    "2. Probability prevalence > 5% = (10 - 5)/(10 - 1) = 5/9 ≈ 0.556\n",
    "\n",
    "Try changing the parameters below to explore different scenarios."
   ]
  },
  {
   "cell_type": "code",
   "execution_count": 5,
   "metadata": {},
   "outputs": [
    {
     "data": {
      "application/vnd.jupyter.widget-view+json": {
       "model_id": "b249db5aab2b49f583e0b5348a73541a",
       "version_major": 2,
       "version_minor": 0
      },
      "text/plain": [
       "interactive(children=(FloatSlider(value=0.0, description='a:', max=5.0, min=-5.0), FloatSlider(value=1.0, desc…"
      ]
     },
     "execution_count": 5,
     "metadata": {},
     "output_type": "execute_result"
    }
   ],
   "source": [
    "# Display the interactive plot\n",
    "interactive_plot"
   ]
  },
  {
   "cell_type": "markdown",
   "metadata": {},
   "source": [
    "## Common Applications\n",
    "\n",
    "The uniform distribution is used in many real-world scenarios:\n",
    "\n",
    "1. **Quality Control**:\n",
    "   * Manufacturing tolerances\n",
    "   * Measurement errors within bounds\n",
    "\n",
    "2. **Simulation**:\n",
    "   * Random number generation\n",
    "   * Monte Carlo methods\n",
    "\n",
    "3. **Time Estimation**:\n",
    "   * Project duration ranges\n",
    "   * Arrival time windows\n",
    "\n",
    "4. **Natural Phenomena**:\n",
    "   * Rainfall amounts within bounds\n",
    "   * Temperature variations in controlled environments\n",
    "\n",
    "## Assumptions and Limitations\n",
    "\n",
    "1. **Key Assumptions**:\n",
    "   * Equal probability density throughout range\n",
    "   * Well-defined boundaries\n",
    "   * Continuous values\n",
    "\n",
    "2. **Limitations**:\n",
    "   * Rarely exact in real-world scenarios\n",
    "   * Assumes no central tendency\n",
    "   * May oversimplify complex phenomena\n",
    "\n",
    "## Testing for Uniformity\n",
    "\n",
    "To test if data follows a uniform distribution:\n",
    "1. Visual inspection (histogram)\n",
    "2. Kolmogorov-Smirnov test\n",
    "3. Chi-square goodness of fit test"
   ]
  },
  {
   "cell_type": "code",
   "execution_count": 6,
   "metadata": {},
   "outputs": [
    {
     "data": {
      "image/png": "[encoded data removed]",
      "text/plain": [
       "<Figure size 1000x600 with 1 Axes>"
      ]
     },
     "metadata": {},
     "output_type": "display_data"
    },
    {
     "name": "stdout",
     "output_type": "stream",
     "text": [
      "Kolmogorov-Smirnov test:\n",
      "Statistic: 0.0300\n",
      "p-value: 0.3244\n"
     ]
    }
   ],
   "source": [
    "# Generate some sample uniform data\n",
    "np.random.seed(42)\n",
    "data = np.random.uniform(1, 10, 1000)\n",
    "\n",
    "# Create histogram\n",
    "plt.figure(figsize=(10, 6))\n",
    "plt.hist(data, bins=30, density=True, alpha=0.7, color='skyblue')\n",
    "plt.title('Histogram of Uniform Random Data')\n",
    "plt.xlabel('Value')\n",
    "plt.ylabel('Density')\n",
    "plt.grid(True)\n",
    "plt.show()\n",
    "\n",
    "# Perform KS test\n",
    "ks_statistic, p_value = stats.kstest(data, 'uniform', args=(1, 9))\n",
    "print(f'Kolmogorov-Smirnov test:\\nStatistic: {ks_statistic:.4f}\\np-value: {p_value:.4f}')"
   ]
  },
  {
   "cell_type": "code",
   "execution_count": null,
   "metadata": {},
   "outputs": [],
   "source": []
  }
 ],
 "metadata": {
  "kernelspec": {
   "display_name": "Python 3 (ipykernel)",
   "language": "python",
   "name": "python3"
  },
  "language_info": {
   "codemirror_mode": {
    "name": "ipython",
    "version": 3
   },
   "file_extension": ".py",
   "mimetype": "text/x-python",
   "name": "python",
   "nbconvert_exporter": "python",
   "pygments_lexer": "ipython3",
   "version": "3.13.0"
  }
 },
 "nbformat": 4,
 "nbformat_minor": 4
}
